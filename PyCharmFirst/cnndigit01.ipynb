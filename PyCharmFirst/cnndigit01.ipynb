{
 "cells": [
  {
   "cell_type": "code",
   "execution_count": null,
   "metadata": {},
   "outputs": [],
   "source": []
  },
  {
   "cell_type": "code",
   "execution_count": 2,
   "metadata": {},
   "outputs": [
    {
     "name": "stderr",
     "output_type": "stream",
     "text": [
      "Using TensorFlow backend.\n"
     ]
    }
   ],
   "source": [
    "#import libraries\n",
    "import numpy as np\n",
    "import pandas as pd\n",
    "import seaborn as sns\n",
    "import matplotlib.pyplot as plt\n",
    "from sklearn.metrics import confusion_matrix\n",
    "import itertools\n",
    "from keras.models import Sequential\n",
    "from keras.layers import Dense, Dropout,Flatten,Conv2D,MaxPool2D\n",
    "from keras.optimizers import RMSprop, Adam\n",
    "from keras.preprocessing.image import ImageDataGenerator\n",
    "from keras.callbacks import ReduceLROnPlateau"
   ]
  },
  {
   "cell_type": "code",
   "execution_count": 3,
   "metadata": {},
   "outputs": [
    {
     "name": "stdout",
     "output_type": "stream",
     "text": [
      "[[[0.46666667 0.4745098  0.47843137 ... 0.5176471  0.5137255  0.5019608 ]\n",
      "  [0.49803922 0.4862745  0.4862745  ... 0.5254902  0.5176471  0.50980395]\n",
      "  [0.54509807 0.49411765 0.49019608 ... 0.5294118  0.5254902  0.5137255 ]\n",
      "  ...\n",
      "  [0.5019608  0.5137255  0.5176471  ... 0.5529412  0.54509807 0.53333336]\n",
      "  [0.49803922 0.5058824  0.5137255  ... 0.54509807 0.53333336 0.52156866]\n",
      "  [0.49019608 0.49803922 0.5019608  ... 0.5294118  0.52156866 0.50980395]]\n",
      "\n",
      " [[0.59607846 0.60784316 0.61960787 ... 0.4627451  0.4509804  0.44313726]\n",
      "  [0.60784316 0.61960787 0.6313726  ... 0.4745098  0.4627451  0.4509804 ]\n",
      "  [0.6156863  0.627451   0.6431373  ... 0.4862745  0.4745098  0.4627451 ]\n",
      "  ...\n",
      "  [0.50980395 0.5176471  0.5254902  ... 0.40392157 0.39607844 0.3882353 ]\n",
      "  [0.5019608  0.50980395 0.5176471  ... 0.4        0.39215687 0.38431373]\n",
      "  [0.49411765 0.5058824  0.50980395 ... 0.3882353  0.38039216 0.37254903]]\n",
      "\n",
      " [[0.5882353  0.6039216  0.61960787 ... 0.53333336 0.5137255  0.5019608 ]\n",
      "  [0.5921569  0.6117647  0.6156863  ... 0.5411765  0.52156866 0.50980395]\n",
      "  [0.5882353  0.61960787 0.627451   ... 0.54901963 0.5294118  0.5137255 ]\n",
      "  ...\n",
      "  [0.4745098  0.4862745  0.49411765 ... 0.42745098 0.41960785 0.40784314]\n",
      "  [0.47058824 0.47843137 0.4862745  ... 0.41568628 0.4117647  0.4       ]\n",
      "  [0.45882353 0.47058824 0.47843137 ... 0.40392157 0.4        0.3882353 ]]\n",
      "\n",
      " ...\n",
      "\n",
      " [[0.5254902  0.54509807 0.5568628  ... 0.49803922 0.49019608 0.4862745 ]\n",
      "  [0.5372549  0.5529412  0.5686275  ... 0.5019608  0.49803922 0.49019608]\n",
      "  [0.54509807 0.5568628  0.57254905 ... 0.5058824  0.49803922 0.49019608]\n",
      "  ...\n",
      "  [0.5058824  0.50980395 0.5137255  ... 0.4862745  0.47843137 0.47058824]\n",
      "  [0.49411765 0.5058824  0.50980395 ... 0.47843137 0.47058824 0.4627451 ]\n",
      "  [0.48235294 0.49411765 0.5058824  ... 0.47058824 0.4627451  0.45490196]]\n",
      "\n",
      " [[0.5137255  0.5254902  0.5372549  ... 0.45490196 0.44705883 0.43529412]\n",
      "  [0.5176471  0.53333336 0.54901963 ... 0.46666667 0.45882353 0.44705883]\n",
      "  [0.5254902  0.5411765  0.56078434 ... 0.4745098  0.4627451  0.4509804 ]\n",
      "  ...\n",
      "  [0.53333336 0.5411765  0.5529412  ... 0.54509807 0.5372549  0.5294118 ]\n",
      "  [0.52156866 0.53333336 0.54509807 ... 0.5372549  0.5294118  0.52156866]\n",
      "  [0.5137255  0.5254902  0.5372549  ... 0.5294118  0.5254902  0.5137255 ]]\n",
      "\n",
      " [[0.92941177 0.9372549  0.9372549  ... 0.9647059  0.972549   0.972549  ]\n",
      "  [0.92941177 0.93333334 0.93333334 ... 0.95686275 0.9607843  0.9647059 ]\n",
      "  [0.93333334 0.93333334 0.93333334 ... 0.9490196  0.9490196  0.9529412 ]\n",
      "  ...\n",
      "  [0.76862746 0.76862746 0.77254903 ... 0.73333335 0.74509805 0.68235296]\n",
      "  [0.7647059  0.7647059  0.76862746 ... 0.7254902  0.7372549  0.6784314 ]\n",
      "  [0.75686276 0.75686276 0.7607843  ... 0.72156864 0.73333335 0.67058825]]]\n",
      "[[1. 0. 0. ... 0. 0. 0.]\n",
      " [1. 0. 0. ... 0. 0. 0.]\n",
      " [1. 0. 0. ... 0. 0. 0.]\n",
      " ...\n",
      " [0. 0. 0. ... 0. 0. 1.]\n",
      " [0. 0. 0. ... 0. 0. 1.]\n",
      " [0. 0. 0. ... 0. 0. 1.]]\n",
      "Dimension of Dataset1:3\n",
      "Dataset1 shape:(2062, 64, 64)\n",
      "Dataset2 shape:(2062, 10)\n"
     ]
    },
    {
     "data": {
      "image/png": "[encoded data removed]",
      "text/plain": [
       "<Figure size 432x288 with 1 Axes>"
      ]
     },
     "metadata": {
      "needs_background": "light"
     },
     "output_type": "display_data"
    }
   ],
   "source": [
    "#load dataset\n",
    "#dataset overview\n",
    "#Now  we have 2 numpy files X.npy and Y.npy. So we need to load them.\n",
    "\n",
    "dataset1=np.load('X.npy')\n",
    "print(dataset1)\n",
    "\n",
    "dataset2=np.load('Y.npy')\n",
    "print(dataset2)\n",
    "#Determine to variables\n",
    "imageSize=64\n",
    "#We can shown as in the figure.For example we want to see what is in the 12. data. \n",
    "#If you run it, you can see \"3\" digit data with the fingers of hand in the 12. data.\n",
    "plt.imshow(dataset1[12].reshape(imageSize,imageSize))\n",
    "plt.title(\"12. image\")\n",
    "#Now, we do not want to see the with axises.(Optional)\n",
    "plt.axis(\"off\")\n",
    "#Now if we see the X.npy and Y.npy dataset. X.npy dataset (2062,64,64), Y.npy dataset is (2062,10).\n",
    "#For 0: [0:204]\n",
    "#For 1: [204:409]\n",
    "#For 2:[409:615]\n",
    "#♣For 3:[615:822]\n",
    "#◘For 4:[822:1028]\n",
    "#For 5: [1028:1236]\n",
    "#For 6:[1236:1443]\n",
    "#For 7:[1443:1649]\n",
    "#For 8:[1649:1855]\n",
    "#For 9[1855:2062]\n",
    "#dataset2=dataset2.reshape(2062,1)\n",
    "print(\"Dimension of Dataset1:\" + str(dataset1.ndim))\n",
    "print(\"Dataset1 shape:\" +str( dataset1.shape))\n",
    "print(\"Dataset2 shape:\"+ str(dataset2.shape))"
   ]
  },
  {
   "cell_type": "code",
   "execution_count": 4,
   "metadata": {},
   "outputs": [
    {
     "name": "stdout",
     "output_type": "stream",
     "text": [
      "Xtrain Number: 1752Xtrain shape: (1752, 64, 64)\n",
      "Ytest Number:310Ytest shape: (310, 10)\n",
      "Ytrain Number:1752Ytrain shape: (1752, 10)\n",
      "Xtest Number:310Xtest shape: (310, 64, 64)\n"
     ]
    }
   ],
   "source": [
    "#Train and Test Split\n",
    "#training and testing data\n",
    "from sklearn.model_selection import train_test_split\n",
    "Xtrain, Xtest, Ytrain, Ytest=train_test_split(dataset1,dataset2, test_size=0.15, random_state=42)\n",
    "trainNumber=Xtrain.shape[0]\n",
    "testNumber=Ytest.shape[0]\n",
    "trainNumber2=Ytrain.shape[0]\n",
    "testNumber2=Xtest.shape[0]\n",
    "print(\"Xtrain Number: \" + str(trainNumber) + \"Xtrain shape: \" + str(Xtrain.shape))\n",
    "print(\"Ytest Number:\" + str(testNumber) + \"Ytest shape: \" + str(Ytest.shape))\n",
    "print(\"Ytrain Number:\" + str(trainNumber2) + \"Ytrain shape: \" + str(Ytrain.shape))\n",
    "print(\"Xtest Number:\" + str(testNumber2) + \"Xtest shape: \" + str(Xtest.shape))\n"
   ]
  },
  {
   "cell_type": "code",
   "execution_count": 5,
   "metadata": {},
   "outputs": [
    {
     "name": "stdout",
     "output_type": "stream",
     "text": [
      "Normalization\n",
      "Xtrain shape:  (1752, 64, 64, 1)\n",
      "Xtest shape:  (310, 64, 64, 1)\n",
      "Ytest shape:  (310, 10)\n"
     ]
    }
   ],
   "source": [
    "#Normalizationing Data; convert to gray scale: between 0 and 1\n",
    "print(\"Normalization\")\n",
    "Xtrain=Xtrain/255.0\n",
    "Xtest=Xtest/255.0\n",
    "Ytrain=Ytrain/255.0\n",
    "Ytest=Ytest/255.0\n",
    "#Reshape Data because of the Keras rules\n",
    "#-1?\n",
    "Xtrain=Xtrain.reshape(-1,64,64,1)\n",
    "Xtest=Xtest.reshape(-1,64,64,1)\n",
    "#Ytrain=Ytrain.reshape(-1,10,1)\n",
    "print(\"Xtrain shape: \" , Xtrain.shape)\n",
    "print(\"Xtest shape: \",Xtest.shape)\n",
    "print(\"Ytest shape: \",Ytest.shape)\n",
    "#Label Encoding\n",
    "from keras.utils.np_utils import to_categorical\n",
    "#Ytrain=to_categorical(Ytrain,num_classes=10)\n"
   ]
  },
  {
   "cell_type": "code",
   "execution_count": 6,
   "metadata": {},
   "outputs": [
    {
     "name": "stdout",
     "output_type": "stream",
     "text": [
      "WARNING:tensorflow:From C:\\Users\\Munire\\Anaconda3\\lib\\site-packages\\tensorflow\\python\\framework\\op_def_library.py:263: colocate_with (from tensorflow.python.framework.ops) is deprecated and will be removed in a future version.\n",
      "Instructions for updating:\n",
      "Colocations handled automatically by placer.\n",
      "WARNING:tensorflow:From C:\\Users\\Munire\\Anaconda3\\lib\\site-packages\\keras\\backend\\tensorflow_backend.py:3445: calling dropout (from tensorflow.python.ops.nn_ops) with keep_prob is deprecated and will be removed in a future version.\n",
      "Instructions for updating:\n",
      "Please use `rate` instead of `keep_prob`. Rate should be set to `rate = 1 - keep_prob`.\n",
      "**********************\n",
      "1752\n",
      "(1752, 64, 64, 1)\n",
      "WARNING:tensorflow:From C:\\Users\\Munire\\Anaconda3\\lib\\site-packages\\tensorflow\\python\\ops\\math_ops.py:3066: to_int32 (from tensorflow.python.ops.math_ops) is deprecated and will be removed in a future version.\n",
      "Instructions for updating:\n",
      "Use tf.cast instead.\n",
      "Epoch 1/1\n",
      "1752/1752 [==============================] - 52s 30ms/step - loss: 0.0090 - acc: 0.0908 - val_loss: 0.0090 - val_acc: 0.09030.0090 - acc: 0.11 - E - ETA: 45s  - ETA: 40s - loss: 0.0090 - ETA: 19s - loss:  - ETA: 19s - loss - E - ETA: 12s - loss: 0.0090 - acc: 0.09 - ETA: 12s - lo - - ETA: 9s - loss: 0.00 - ET - ETA: 4s - loss: 0.009 - ETA: 3s - loss: 0.0090 - acc - ET - ETA: 1s - loss: 0.0090 - acc: 0 - ETA: 0s - loss: 0.0090\n"
     ]
    },
    {
     "data": {
      "image/png": "[encoded data removed]",
      "text/plain": [
       "<Figure size 432x288 with 1 Axes>"
      ]
     },
     "metadata": {
      "needs_background": "light"
     },
     "output_type": "display_data"
    }
   ],
   "source": [
    "#Create a model\n",
    "\n",
    "learningModel=Sequential()\n",
    "#CNN-Same Padding\n",
    "learningModel.add(Conv2D(filters=8,kernel_size=(5,5),padding=\"Same\",activation='relu',input_shape=(64,64,1)))\n",
    "#CNN-Max Pooling\n",
    "learningModel.add(MaxPool2D(pool_size=(2,2)))\n",
    "#Flattening\n",
    "learningModel.add(Dropout(0.25))\n",
    "#CNN-Same Padding2\n",
    "learningModel.add(Conv2D(filters=2,kernel_size=(3,3),padding=\"Same\", activation=\"relu\"))\n",
    "#CNN-Max Pooling2\n",
    "learningModel.add(MaxPool2D(pool_size=(2,2),strides=(2,2)))\n",
    "#Flattening2\n",
    "learningModel.add(Dropout(0.25))\n",
    "#Full Connection\n",
    "learningModel.add(Flatten())\n",
    "learningModel.add(Dense(256,activation=\"relu\"))\n",
    "learningModel.add(Dropout(0.5))\n",
    "learningModel.add(Dense(10,activation=\"softmax\"))\n",
    "#Define Optimizer\n",
    "learningOptimizer=Adam(lr=0.001,beta_1=0.9,beta_2=0.999)\n",
    "#Compile Model\n",
    "learningModel.compile(optimizer=learningOptimizer,loss=\"categorical_crossentropy\",metrics=[\"accuracy\"])\n",
    "#Epochs and Batch Size\n",
    "epoch=1\n",
    "batchSize=1\n",
    "#Data Augmentation\n",
    "dataGeneration=ImageDataGenerator(featurewise_center=False,samplewise_center=False,\n",
    "                                  featurewise_std_normalization=False, samplewise_std_normalization=False,\n",
    "                                  zca_whitening=False,rotation_range=0.5,zoom_range=0.5,width_shift_range=0.5,\n",
    "                                  height_shift_range=0.5,horizontal_flip=False,vertical_flip=False)\n",
    "dataGeneration.fit(Xtrain)\n",
    "\n",
    "print(\"**********************\")\n",
    "print(len(Xtrain))\n",
    "print(Xtrain.shape)\n",
    "\n",
    "#Fit the Model\n",
    "\"\"\"history = model.fit_generator(datagen.flow(X_train,Y_train, batch_size=batch_size),\n",
    "                              epochs = epochs, validation_data = (X_val,Y_val), steps_per_epoch=X_train.shape[0] // batch_size)\n",
    "\"\"\"\n",
    "modelProcess=learningModel.fit_generator(dataGeneration.flow(Xtrain,Ytrain,batch_size=batchSize),\n",
    "                                         epochs=epoch,validation_data = (Xtest,Ytest),\n",
    "                                         steps_per_epoch=Xtrain.shape[0])\n",
    "#Evaluate the Model\n",
    "\n",
    "plt.plot(modelProcess.history['val_loss'],color=\"b\", label=\"Validation Loss\")\n",
    "plt.title(\"Test Loss\")\n",
    "plt.xlabel(\"Number Of Epochs\")\n",
    "plt.ylabel(\"Loss\")\n",
    "plt.legend()\n",
    "plt.show()\n"
   ]
  },
  {
   "cell_type": "code",
   "execution_count": 7,
   "metadata": {},
   "outputs": [
    {
     "data": {
      "image/png": "[encoded data removed]",
      "text/plain": [
       "<Figure size 576x576 with 2 Axes>"
      ]
     },
     "metadata": {
      "needs_background": "light"
     },
     "output_type": "display_data"
    }
   ],
   "source": [
    "#Evaluate the Model with Confusion Matrix\n",
    "import seaborn as sns\n",
    "#Predict the values\n",
    "Yprediction=learningModel.predict(Xtest)\n",
    "#Convert the prediction \n",
    "YpredictionClasses=np.argmax(Yprediction,axis=1)\n",
    "#Convert the true predictions\n",
    "Ytrue=np.argmax(Ytest,axis=1)\n",
    "#Confusion Matrix\n",
    "confusionMatrix=confusion_matrix(Ytrue,YpredictionClasses)\n",
    "#Show the results\n",
    "ref, ax=plt.subplots(figsize=(8,8))\n",
    "sns.heatmap(confusionMatrix,annot=True,linewidths=0.01,cmap=\"Greens\",linecolor=\"gray\",fmt=\".1f\", ax=ax)\n",
    "plt.xlabel(\"Predicted Label\")\n",
    "plt.ylabel(\"True Label\")\n",
    "plt.title(\"Confusion Matrix\")\n",
    "plt.show()"
   ]
  }
 ],
 "metadata": {
  "kernelspec": {
   "display_name": "Python 3",
   "language": "python",
   "name": "python3"
  },
  "language_info": {
   "codemirror_mode": {
    "name": "ipython",
    "version": 3
   },
   "file_extension": ".py",
   "mimetype": "text/x-python",
   "name": "python",
   "nbconvert_exporter": "python",
   "pygments_lexer": "ipython3",
   "version": "3.7.1"
  }
 },
 "nbformat": 4,
 "nbformat_minor": 2
}
